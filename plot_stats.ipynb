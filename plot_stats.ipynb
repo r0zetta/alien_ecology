{
 "cells": [
  {
   "cell_type": "code",
   "execution_count": 4,
   "metadata": {},
   "outputs": [],
   "source": [
    "import json, os\n",
    "import numpy as np\n",
    "import seaborn as sns\n",
    "import matplotlib.pyplot as plt\n",
    "import pandas as pd\n",
    "\n",
    "sns.set(style=\"whitegrid\")"
   ]
  },
  {
   "cell_type": "code",
   "execution_count": 7,
   "metadata": {
    "scrolled": false
   },
   "outputs": [
    {
     "ename": "FileNotFoundError",
     "evalue": "[Errno 2] No such file or directory: 'alien_ecology_stats/stats.json'",
     "output_type": "error",
     "traceback": [
      "\u001b[0;31m---------------------------------------------------------------------------\u001b[0m",
      "\u001b[0;31mFileNotFoundError\u001b[0m                         Traceback (most recent call last)",
      "\u001b[0;32m<ipython-input-7-8382ffa891e0>\u001b[0m in \u001b[0;36m<module>\u001b[0;34m\u001b[0m\n\u001b[1;32m      1\u001b[0m \u001b[0mstats\u001b[0m \u001b[0;34m=\u001b[0m \u001b[0;34m{\u001b[0m\u001b[0;34m}\u001b[0m\u001b[0;34m\u001b[0m\u001b[0;34m\u001b[0m\u001b[0m\n\u001b[0;32m----> 2\u001b[0;31m \u001b[0;32mwith\u001b[0m \u001b[0mopen\u001b[0m\u001b[0;34m(\u001b[0m\u001b[0;34m\"alien_ecology_stats/stats.json\"\u001b[0m\u001b[0;34m,\u001b[0m \u001b[0;34m\"r\"\u001b[0m\u001b[0;34m)\u001b[0m \u001b[0;32mas\u001b[0m \u001b[0mf\u001b[0m\u001b[0;34m:\u001b[0m\u001b[0;34m\u001b[0m\u001b[0;34m\u001b[0m\u001b[0m\n\u001b[0m\u001b[1;32m      3\u001b[0m     \u001b[0mstats\u001b[0m \u001b[0;34m=\u001b[0m \u001b[0mjson\u001b[0m\u001b[0;34m.\u001b[0m\u001b[0mloads\u001b[0m\u001b[0;34m(\u001b[0m\u001b[0mf\u001b[0m\u001b[0;34m.\u001b[0m\u001b[0mread\u001b[0m\u001b[0;34m(\u001b[0m\u001b[0;34m)\u001b[0m\u001b[0;34m)\u001b[0m\u001b[0;34m\u001b[0m\u001b[0;34m\u001b[0m\u001b[0m\n\u001b[1;32m      4\u001b[0m \u001b[0;34m\u001b[0m\u001b[0m\n\u001b[1;32m      5\u001b[0m show = {'environment temperature':\n",
      "\u001b[0;31mFileNotFoundError\u001b[0m: [Errno 2] No such file or directory: 'alien_ecology_stats/stats.json'"
     ]
    }
   ],
   "source": [
    "stats = {}\n",
    "with open(\"alien_ecology_stats/stats.json\", \"r\") as f:\n",
    "    stats = json.loads(f.read())\n",
    "\n",
    "show = {'environment temperature':\n",
    "        ['env_temp'],\n",
    "        'food stats':\n",
    "        ['food'],\n",
    "        'mean_age':\n",
    "        ['prev_learning_age_mean',\n",
    "         'prev_evolving_age_mean',\n",
    "         'gs_evolving_age_mean',\n",
    "         'gs_learning_age_mean',],\n",
    "        'mean_fitness':\n",
    "        ['prev_learning_fitness_mean',\n",
    "         'prev_evolving_fitness_mean',\n",
    "         'gs_evolving_fitness_mean', \n",
    "         'gs_learning_fitness_mean'],\n",
    "        'distance moved':\n",
    "        ['prev_learning_distance_mean',\n",
    "         'prev_evolving_distance_mean',\n",
    "         'gs_evolving_distance_mean',\n",
    "         'gs_learning_distance_mean'],\n",
    "        'best agent spread':\n",
    "        ['learned_in_top_gs', \n",
    "         'evolved_in_top_gs',\n",
    "         'learned_in_top_prev',\n",
    "         'evolved_in_top_prev'],\n",
    "        'learned action distribution':\n",
    "        ['learning_rotate_right',\n",
    "         'learning_rotate_left',\n",
    "         'learning_propel',\n",
    "         'learning_pick_food',\n",
    "         'learning_plant_food',\n",
    "         'learning_eat_food',\n",
    "         'learning_mate',\n",
    "         'learning_freq_up',\n",
    "         'learning_freq_down',\n",
    "         'learning_emit_pheromone',\n",
    "         'learning_move_random'],\n",
    "         'evolved action distribution':\n",
    "        ['evolving_rotate_right',\n",
    "         'evolving_rotate_left',\n",
    "         'evolving_propel',\n",
    "         'evolving_pick_food',\n",
    "         'evolving_plant_food',\n",
    "         'evolving_eat_food',\n",
    "         'evolving_mate',\n",
    "         'evolving_freq_up',\n",
    "         'evolving_freq_down',\n",
    "         'evolving_emit_pheromone',\n",
    "         'evolving_move_random']}\n",
    "\n",
    "for title, group in show.items():\n",
    "    min_p = min(len(stats[l]) for l in group)\n",
    "    plot_data = {}\n",
    "    for label in group:\n",
    "        plot_data[label] = stats[label][-min_p:]\n",
    "    data = pd.DataFrame(plot_data)\n",
    "    fig = plt.figure(figsize=(15,8))\n",
    "    data = data.rolling(10).mean()\n",
    "    ax = sns.lineplot(data=data, hue=\"event\", style=\"event\", dashes=False, markers=False, linewidth=1.5)\n",
    "    ax.xaxis.set_major_locator(plt.MaxNLocator(5))\n",
    "    ax.set_title(title)\n",
    "    plt.show()"
   ]
  },
  {
   "cell_type": "code",
   "execution_count": null,
   "metadata": {},
   "outputs": [],
   "source": []
  }
 ],
 "metadata": {
  "kernelspec": {
   "display_name": "Python 3",
   "language": "python",
   "name": "python3"
  },
  "language_info": {
   "codemirror_mode": {
    "name": "ipython",
    "version": 3
   },
   "file_extension": ".py",
   "mimetype": "text/x-python",
   "name": "python",
   "nbconvert_exporter": "python",
   "pygments_lexer": "ipython3",
   "version": "3.8.3"
  }
 },
 "nbformat": 4,
 "nbformat_minor": 4
}
