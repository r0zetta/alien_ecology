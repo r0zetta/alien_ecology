{
 "cells": [
  {
   "cell_type": "code",
   "execution_count": null,
   "metadata": {},
   "outputs": [],
   "source": [
    "import json, os\n",
    "import numpy as np\n",
    "import seaborn as sns\n",
    "import matplotlib.pyplot as plt\n",
    "import pandas as pd\n",
    "\n",
    "sns.set(style=\"whitegrid\")"
   ]
  },
  {
   "cell_type": "code",
   "execution_count": null,
   "metadata": {
    "scrolled": false
   },
   "outputs": [],
   "source": [
    "stats = {}\n",
    "with open(\"alien_ecology_stats/stats.json\", \"r\") as f:\n",
    "    stats = json.loads(f.read())\n",
    "\n",
    "am = [x for x in stats.keys() if \"age_mean\" in x]\n",
    "fm = [x for x in stats.keys() if \"fitness_mean\" in x]\n",
    "dm = [x for x in stats.keys() if \"distance_mean\" in x]\n",
    "tgs = [x for x in stats.keys() if \"in_top_\" in x]\n",
    "lad = [x for x in stats.keys() if \"learning_action\" in x]\n",
    "ead = [x for x in stats.keys() if \"evolving_action\" in x]\n",
    "\n",
    "show = {\n",
    "        'mean age': am,\n",
    "        'mean fitness': fm,\n",
    "        'distance moved': dm,\n",
    "        #'best agent spread': tgs,\n",
    "        #'learned action distribution': lad,\n",
    "        #'evolved action distribution': ead\n",
    "       }\n",
    "\n",
    "for title, group in show.items():\n",
    "    if len(group) < 1:\n",
    "        continue\n",
    "    min_p = min(len(stats[l]) for l in group)\n",
    "    #min_p = min(5000, min_p)\n",
    "    plot_data = {}\n",
    "    for label in group:\n",
    "        plot_data[label] = stats[label][-min_p:]\n",
    "    data = pd.DataFrame(plot_data)\n",
    "    fig = plt.figure(figsize=(13,7))\n",
    "    data = data.rolling(10).mean()\n",
    "    ax = sns.lineplot(data=data, hue=\"event\", style=\"event\", dashes=False, markers=False, linewidth=1.5)\n",
    "    ax.xaxis.set_major_locator(plt.MaxNLocator(5))\n",
    "    ax.set_title(title)\n",
    "    plt.show()"
   ]
  },
  {
   "cell_type": "code",
   "execution_count": null,
   "metadata": {},
   "outputs": [],
   "source": []
  }
 ],
 "metadata": {
  "kernelspec": {
   "display_name": "Python 3",
   "language": "python",
   "name": "python3"
  },
  "language_info": {
   "codemirror_mode": {
    "name": "ipython",
    "version": 3
   },
   "file_extension": ".py",
   "mimetype": "text/x-python",
   "name": "python",
   "nbconvert_exporter": "python",
   "pygments_lexer": "ipython3",
   "version": "3.8.3"
  }
 },
 "nbformat": 4,
 "nbformat_minor": 4
}
