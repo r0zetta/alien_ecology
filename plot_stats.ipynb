{
 "cells": [
  {
   "cell_type": "code",
   "execution_count": 4,
   "metadata": {},
   "outputs": [],
   "source": [
    "import json, os\n",
    "import numpy as np\n",
    "import seaborn as sns\n",
    "import matplotlib.pyplot as plt\n",
    "import pandas as pd\n",
    "\n",
    "sns.set(style=\"whitegrid\")"
   ]
  },
  {
   "cell_type": "code",
   "execution_count": 7,
   "metadata": {
    "scrolled": false
   },
   "outputs": [
    {
     "ename": "FileNotFoundError",
     "evalue": "[Errno 2] No such file or directory: 'alien_ecology_stats/stats.json'",
     "output_type": "error",
     "traceback": [
      "\u001b[0;31m---------------------------------------------------------------------------\u001b[0m",
      "\u001b[0;31mFileNotFoundError\u001b[0m                         Traceback (most recent call last)",
      "\u001b[0;32m<ipython-input-7-8382ffa891e0>\u001b[0m in \u001b[0;36m<module>\u001b[0;34m\u001b[0m\n\u001b[1;32m      1\u001b[0m \u001b[0mstats\u001b[0m \u001b[0;34m=\u001b[0m \u001b[0;34m{\u001b[0m\u001b[0;34m}\u001b[0m\u001b[0;34m\u001b[0m\u001b[0;34m\u001b[0m\u001b[0m\n\u001b[0;32m----> 2\u001b[0;31m \u001b[0;32mwith\u001b[0m \u001b[0mopen\u001b[0m\u001b[0;34m(\u001b[0m\u001b[0;34m\"alien_ecology_stats/stats.json\"\u001b[0m\u001b[0;34m,\u001b[0m \u001b[0;34m\"r\"\u001b[0m\u001b[0;34m)\u001b[0m \u001b[0;32mas\u001b[0m \u001b[0mf\u001b[0m\u001b[0;34m:\u001b[0m\u001b[0;34m\u001b[0m\u001b[0;34m\u001b[0m\u001b[0m\n\u001b[0m\u001b[1;32m      3\u001b[0m     \u001b[0mstats\u001b[0m \u001b[0;34m=\u001b[0m \u001b[0mjson\u001b[0m\u001b[0;34m.\u001b[0m\u001b[0mloads\u001b[0m\u001b[0;34m(\u001b[0m\u001b[0mf\u001b[0m\u001b[0;34m.\u001b[0m\u001b[0mread\u001b[0m\u001b[0;34m(\u001b[0m\u001b[0;34m)\u001b[0m\u001b[0;34m)\u001b[0m\u001b[0;34m\u001b[0m\u001b[0;34m\u001b[0m\u001b[0m\n\u001b[1;32m      4\u001b[0m \u001b[0;34m\u001b[0m\u001b[0m\n\u001b[1;32m      5\u001b[0m show = {'environment temperature':\n",
      "\u001b[0;31mFileNotFoundError\u001b[0m: [Errno 2] No such file or directory: 'alien_ecology_stats/stats.json'"
     ]
    }
   ],
   "source": [
    "stats = {}\n",
    "with open(\"alien_ecology_stats/stats.json\", \"r\") as f:\n",
    "    stats = json.loads(f.read())\n",
    "\n",
    "am = [x for x in stats.keys() if \"age_mean\" in x]\n",
    "fm = [x for x in stats.keys() if \"fitness_mean\" in x]\n",
    "dm = [x for x in stats.keys() if \"distance_mean\" in x]\n",
    "tgs = [x for x in stats.keys() if \"in_top_\" in x]\n",
    "lad = [x for x in stats.keys() if \"learning_action\" in x]\n",
    "ead = [x for x in stats.keys() if \"evolving_action\" in x]\n",
    "\n",
    "show = {'environment temperature':\n",
    "        ['env_temp'],\n",
    "        'food stats':\n",
    "        ['food'],\n",
    "        'mean age': am,\n",
    "        'mean fitness': fm,\n",
    "        'distance moved': dm,\n",
    "        'best agent spread': tgs,\n",
    "        'learned action distribution': lad,\n",
    "         'evolved action distribution': ead}\n",
    "\n",
    "for title, group in show.items():\n",
    "    if len(group) < 1:\n",
    "        continue\n",
    "    min_p = min(len(stats[l]) for l in group)\n",
    "    plot_data = {}\n",
    "    for label in group:\n",
    "        plot_data[label] = stats[label][-min_p:]\n",
    "    data = pd.DataFrame(plot_data)\n",
    "    fig = plt.figure(figsize=(15,8))\n",
    "    data = data.rolling(10).mean()\n",
    "    ax = sns.lineplot(data=data, hue=\"event\", style=\"event\", dashes=False, markers=False, linewidth=1.5)\n",
    "    ax.xaxis.set_major_locator(plt.MaxNLocator(5))\n",
    "    ax.set_title(title)\n",
    "    plt.show()"
   ]
  },
  {
   "cell_type": "code",
   "execution_count": null,
   "metadata": {},
   "outputs": [],
   "source": []
  }
 ],
 "metadata": {
  "kernelspec": {
   "display_name": "Python 3",
   "language": "python",
   "name": "python3"
  },
  "language_info": {
   "codemirror_mode": {
    "name": "ipython",
    "version": 3
   },
   "file_extension": ".py",
   "mimetype": "text/x-python",
   "name": "python",
   "nbconvert_exporter": "python",
   "pygments_lexer": "ipython3",
   "version": "3.8.3"
  }
 },
 "nbformat": 4,
 "nbformat_minor": 4
}
