{
 "cells": [
  {
   "cell_type": "code",
   "execution_count": null,
   "metadata": {},
   "outputs": [],
   "source": [
    "import json, os\n",
    "import numpy as np\n",
    "import seaborn as sns\n",
    "import matplotlib.pyplot as plt\n",
    "import pandas as pd\n",
    "\n",
    "sns.set(style=\"whitegrid\")"
   ]
  },
  {
   "cell_type": "code",
   "execution_count": null,
   "metadata": {
    "scrolled": false
   },
   "outputs": [],
   "source": [
    "stats = {}\n",
    "with open(\"alien_ecology_stats/stats.json\", \"r\") as f:\n",
    "    stats = json.loads(f.read())\n",
    "\n",
    "show = {'environment temperature':\n",
    "        ['env_temp'],\n",
    "        'food stats':\n",
    "        ['food',\n",
    "         'food_picked',\n",
    "         'food_eaten',\n",
    "         'food_planted'],\n",
    "        'mean_age':\n",
    "        ['prev_learning_age_mean',\n",
    "         'prev_evolving_age_mean',\n",
    "         'gs_evolving_age_mean',\n",
    "         'gs_learning_age_mean',],\n",
    "        'mean_fitness':\n",
    "        ['prev_learning_fitness_mean',\n",
    "         'prev_evolving_fitness_mean',\n",
    "         'gs_evolving_fitness_mean', \n",
    "         'gs_learning_fitness_mean'],\n",
    "        'best agent spread':\n",
    "        ['learned_in_top_gs', \n",
    "         'evolved_in_top_gs',\n",
    "         'learned_in_top_prev',\n",
    "         'evolved_in_top_prev']}\n",
    "\n",
    "for title, group in show.items():\n",
    "    min_p = min(len(stats[l]) for l in group)\n",
    "    plot_data = {}\n",
    "    for label in group:\n",
    "        plot_data[label] = stats[label][-min_p:]\n",
    "    data = pd.DataFrame(plot_data)\n",
    "    fig = plt.figure(figsize=(15,8))\n",
    "    data = data.rolling(10).mean()\n",
    "    ax = sns.lineplot(data=data, hue=\"event\", style=\"event\", dashes=False, markers=False, linewidth=1.5)\n",
    "    ax.xaxis.set_major_locator(plt.MaxNLocator(5))\n",
    "    ax.set_title(title)\n",
    "    plt.show()"
   ]
  },
  {
   "cell_type": "code",
   "execution_count": null,
   "metadata": {},
   "outputs": [],
   "source": []
  }
 ],
 "metadata": {
  "kernelspec": {
   "display_name": "Python 3",
   "language": "python",
   "name": "python3"
  },
  "language_info": {
   "codemirror_mode": {
    "name": "ipython",
    "version": 3
   },
   "file_extension": ".py",
   "mimetype": "text/x-python",
   "name": "python",
   "nbconvert_exporter": "python",
   "pygments_lexer": "ipython3",
   "version": "3.8.3"
  }
 },
 "nbformat": 4,
 "nbformat_minor": 4
}
